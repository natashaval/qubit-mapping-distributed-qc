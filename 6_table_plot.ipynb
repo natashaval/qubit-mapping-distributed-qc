{
 "cells": [
  {
   "cell_type": "code",
   "execution_count": 1,
   "metadata": {},
   "outputs": [],
   "source": [
    "import json\n",
    "import pandas as pd"
   ]
  },
  {
   "cell_type": "code",
   "execution_count": 15,
   "metadata": {},
   "outputs": [],
   "source": [
    "def flatten_json(json_data):\n",
    "    data = []\n",
    "    for circuit, circuit_value in json_data.items(): # circuit size\n",
    "        if circuit in [\"5\"]:\n",
    "            for benchmark, benchmark_value in circuit_value.items(): # benchmark_name\n",
    "                for layout, metrics in benchmark_value.items():\n",
    "                    trivial_swap = metrics.get('trivial_swap', None)\n",
    "                    sabre_swap = metrics.get('sabre_swap', None)\n",
    "                    lookahead_swap = metrics.get('lookahead_swap', None)\n",
    "                    swap_change = ((lookahead_swap - sabre_swap) / sabre_swap * 100) if sabre_swap != 0 and sabre_swap is not None and lookahead_swap is not None else None\n",
    "                    \n",
    "                    trivial_depth = metrics.get('trivial_depth', None)\n",
    "                    sabre_depth = metrics.get('sabre_depth', None)\n",
    "                    lookahead_depth = metrics.get('lookahead_depth', None)\n",
    "                    depth_change = ((lookahead_depth - sabre_depth) / sabre_depth * 100) if sabre_depth != 0 and sabre_depth is not None and lookahead_depth is not None else None\n",
    "\n",
    "                    data.append({\n",
    "                        \"Benchmark\": benchmark,\n",
    "                        \"n\": circuit, # circuit size\n",
    "                        \"g\": benchmark_value['init']['size'], # total gates\n",
    "                        \"d\": benchmark_value['init']['depth'], # circuit depth\n",
    "                        \"Layout\": layout,\n",
    "                        \"swap_b\": trivial_swap, # basic swap\n",
    "                        \"swap_s\": sabre_swap, # sabre swap\n",
    "                        \"swap_l\": lookahead_swap, # lookahead swap\n",
    "                        \"Swap (%)\": swap_change,\n",
    "                        \"d_b\": trivial_depth, # basic depth\n",
    "                        \"d_s\": sabre_depth, # sabre depth\n",
    "                        \"d_l\": lookahead_depth, # lookahead depth\n",
    "                        \"Depth (%)\": depth_change\n",
    "                    })\n",
    "    return pd.DataFrame(data)\n"
   ]
  },
  {
   "cell_type": "code",
   "execution_count": 6,
   "metadata": {},
   "outputs": [
    {
     "name": "stdout",
     "output_type": "stream",
     "text": [
      "15\n"
     ]
    }
   ],
   "source": [
    "def open_json_from_file():\n",
    "    with open(\"result/benchmarking_2.json\") as json_file:\n",
    "        return json.load(json_file)\n",
    "\n",
    "dict_benchmark = open_json_from_file()\n",
    "print(len(dict_benchmark[\"5\"].keys()))"
   ]
  },
  {
   "cell_type": "code",
   "execution_count": 16,
   "metadata": {},
   "outputs": [
    {
     "name": "stdout",
     "output_type": "stream",
     "text": [
      "    Benchmark  n   g   d            Layout swap_b  swap_s  swap_l  Swap (%)  \\\n",
      "0          dj  5  36  11              init   None     NaN     NaN       NaN   \n",
      "1          dj  5  36  11         full_10_2   None     0.0     0.0       NaN   \n",
      "2          dj  5  36  11          full_7_3   None     3.0     0.0    -100.0   \n",
      "3          dj  5  36  11         ring_10_2   None     3.0     3.0       0.0   \n",
      "4          dj  5  36  11          ring_7_3   None     3.0     3.0       0.0   \n",
      "..        ... ..  ..  ..               ...    ...     ...     ...       ...   \n",
      "145    wstate  5  73  45          grid_9_3   None     0.0    12.0       NaN   \n",
      "146    wstate  5  73  45          grid_4_5   None     0.0     9.0       NaN   \n",
      "147    wstate  5  73  45          line_5_4   None     0.0    15.0       NaN   \n",
      "148    wstate  5  73  45  t_horizontal_5_4   None     0.0     6.0       NaN   \n",
      "149    wstate  5  73  45    t_vertical_5_4   None     0.0     6.0       NaN   \n",
      "\n",
      "      d_b   d_s   d_l  Depth (%)  \n",
      "0    None   NaN   NaN        NaN  \n",
      "1    None  11.0  11.0   0.000000  \n",
      "2    None  14.0  11.0 -21.428571  \n",
      "3    None  17.0  12.0 -29.411765  \n",
      "4    None  18.0  12.0 -33.333333  \n",
      "..    ...   ...   ...        ...  \n",
      "145  None  45.0  41.0  -8.888889  \n",
      "146  None  45.0  40.0 -11.111111  \n",
      "147  None  45.0  33.0 -26.666667  \n",
      "148  None  45.0  39.0 -13.333333  \n",
      "149  None  45.0  39.0 -13.333333  \n",
      "\n",
      "[150 rows x 13 columns]\n"
     ]
    }
   ],
   "source": [
    "df = flatten_json(dict_benchmark)\n",
    "print(df)"
   ]
  },
  {
   "cell_type": "code",
   "execution_count": 17,
   "metadata": {},
   "outputs": [],
   "source": [
    "def save_latex_to_file(latex, circuit_size):\n",
    "    with open(f\"result/table_{circuit_size}.tex\", \"w\") as file:\n",
    "        file.write(latex)"
   ]
  },
  {
   "cell_type": "code",
   "execution_count": 18,
   "metadata": {},
   "outputs": [],
   "source": [
    "df_n_5 = df[df[\"n\"] == \"5\"]\n",
    "latex_n_5 = df_n_5.to_latex(index=False)\n",
    "save_latex_to_file(latex_n_5, 5)"
   ]
  },
  {
   "cell_type": "code",
   "execution_count": null,
   "metadata": {},
   "outputs": [],
   "source": []
  }
 ],
 "metadata": {
  "kernelspec": {
   "display_name": "Python 3",
   "language": "python",
   "name": "python3"
  },
  "language_info": {
   "codemirror_mode": {
    "name": "ipython",
    "version": 3
   },
   "file_extension": ".py",
   "mimetype": "text/x-python",
   "name": "python",
   "nbconvert_exporter": "python",
   "pygments_lexer": "ipython3",
   "version": "3.10.12"
  }
 },
 "nbformat": 4,
 "nbformat_minor": 2
}
