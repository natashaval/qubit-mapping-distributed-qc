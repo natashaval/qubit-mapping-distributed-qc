{
 "cells": [
  {
   "cell_type": "code",
   "execution_count": 70,
   "metadata": {},
   "outputs": [],
   "source": [
    "import json\n",
    "import pandas as pd"
   ]
  },
  {
   "cell_type": "code",
   "execution_count": 71,
   "metadata": {},
   "outputs": [],
   "source": [
    "def format_number(x):\n",
    "    if isinstance(x, float):\n",
    "        if x.is_integer():\n",
    "            return int(x)  # Convert to integer if the float is a whole number\n",
    "        else:\n",
    "            return '{:.2f}'.format(x).rstrip('0').rstrip('.')  # Keep up to 2 decimals, remove trailing zeros\n",
    "    return x\n",
    "\n",
    "def flatten_json(json_data):\n",
    "    data = []\n",
    "    for circuit, circuit_value in json_data.items(): # circuit size\n",
    "        for benchmark, benchmark_value in circuit_value.items(): # benchmark_name\n",
    "            for layout, metrics in benchmark_value.items():\n",
    "                if layout == 'init':\n",
    "                    continue\n",
    "                if 'lookahead_swap' not in metrics:\n",
    "                    continue\n",
    "                basic_swap = metrics.get('basic_swap', None)\n",
    "                sabre_swap = metrics.get('sabre_swap', None)\n",
    "                lookahead_swap = metrics.get('lookahead_swap', None)\n",
    "                swap_change = ((lookahead_swap - sabre_swap) / sabre_swap * 100) if sabre_swap != 0 and sabre_swap is not None and lookahead_swap is not None else None\n",
    "                \n",
    "                basic_depth = metrics.get('basic_depth', None)\n",
    "                sabre_depth = metrics.get('sabre_depth', None)\n",
    "                lookahead_depth = metrics.get('lookahead_depth', None)\n",
    "                depth_change = ((lookahead_depth - sabre_depth) / sabre_depth * 100) if sabre_depth != 0 and sabre_depth is not None and lookahead_depth is not None else None\n",
    "\n",
    "                data.append({\n",
    "                    \"Benchmark\": benchmark,\n",
    "                    \"Size\": circuit, # circuit size\n",
    "                    \"Gate\": benchmark_value['init']['size'], # total gates\n",
    "                    \"Depth\": benchmark_value['init']['depth'], # circuit depth\n",
    "                    \"Layout\": layout,\n",
    "                    \"Swap Basic\": basic_swap, # basic swap\n",
    "                    \"Swap Sabre\": sabre_swap, # sabre swap\n",
    "                    \"Swap Lookahead\": lookahead_swap, # lookahead swap\n",
    "                    \"Swap Percentage\": swap_change,\n",
    "                    \"Depth Basic\": basic_depth, # basic depth\n",
    "                    \"Depth Sabre\": sabre_depth, # sabre depth\n",
    "                    \"Depth Lookahead\": lookahead_depth, # lookahead depth\n",
    "                    \"Depth Percentage\": depth_change\n",
    "                })\n",
    "    return pd.DataFrame(data)\n"
   ]
  },
  {
   "cell_type": "code",
   "execution_count": 72,
   "metadata": {},
   "outputs": [
    {
     "name": "stdout",
     "output_type": "stream",
     "text": [
      "15\n"
     ]
    }
   ],
   "source": [
    "def open_json_from_file():\n",
    "    with open(\"result/benchmarking_2.json\") as json_file:\n",
    "        return json.load(json_file)\n",
    "\n",
    "dict_benchmark = open_json_from_file()\n",
    "print(len(dict_benchmark[\"5\"].keys()))"
   ]
  },
  {
   "cell_type": "code",
   "execution_count": 73,
   "metadata": {},
   "outputs": [
    {
     "name": "stdout",
     "output_type": "stream",
     "text": [
      "True\n"
     ]
    }
   ],
   "source": [
    "a = dict_benchmark[\"5\"][\"ghz\"][\"full_10_2\"]\n",
    "a_sabre_swap = a.get(\"sabre_swap\", None)\n",
    "print(isinstance(a_sabre_swap, int))"
   ]
  },
  {
   "cell_type": "code",
   "execution_count": 74,
   "metadata": {},
   "outputs": [
    {
     "name": "stdout",
     "output_type": "stream",
     "text": [
      "    Benchmark   n    g    d            layout  s basic  s sabre  s look  \\\n",
      "0          dj   5   36   11         full_10_2        0        0       0   \n",
      "1          dj   5   36   11          full_7_3        0        3       0   \n",
      "2          dj   5   36   11         ring_10_2       36        3       3   \n",
      "3          dj   5   36   11          ring_7_3       24        3       3   \n",
      "4          dj   5   36   11          grid_9_3        9        3       0   \n",
      "..        ...  ..  ...  ...               ...      ...      ...     ...   \n",
      "380    wstate  15  253  135  t_horizontal_5_4       63       21      45   \n",
      "381    wstate  15  253  135    t_vertical_5_4      126       45      84   \n",
      "382    wstate  15  253  135          ring_7_3        0       15     108   \n",
      "383    wstate  15  253  135          full_7_3        0       12       0   \n",
      "384    wstate  15  253  135          ring_5_4        0       48      72   \n",
      "\n",
      "    swap (%)  d basic  d swap  d look   d (%)  \n",
      "0        nan       11      11      11       0  \n",
      "1       -100       11      14      11  -21.43  \n",
      "2          0       40      17      12  -29.41  \n",
      "3          0       30      18      12  -33.33  \n",
      "4       -100       21      17      11  -35.29  \n",
      "..       ...      ...     ...     ...     ...  \n",
      "380   114.29      166     141     111  -21.28  \n",
      "381    86.67      200     153      97   -36.6  \n",
      "382      620      135     144      81  -43.75  \n",
      "383     -100      135     141     135   -4.26  \n",
      "384       50      135     150      79  -47.33  \n",
      "\n",
      "[385 rows x 13 columns]\n"
     ]
    }
   ],
   "source": [
    "df = flatten_json(dict_benchmark)\n",
    "df = df.map(format_number)\n",
    "df.columns = [\n",
    "    \"Benchmark\",\n",
    "    \"n\",\n",
    "    \"g\",\n",
    "    \"d\",\n",
    "    \"layout\",\n",
    "    \"s basic\", # basic swap\n",
    "    \"s sabre\", # sabre swap\n",
    "    \"s look\", # lookahead swap\n",
    "    \"swap (%)\",\n",
    "    \"d basic\", # basic depth\n",
    "    \"d swap\", # sabre depth\n",
    "    \"d look\", # lookahead depth\n",
    "    \"d (%)\",\n",
    "]\n",
    "# df.columns = [\n",
    "#     \"Benchmark\",\n",
    "#     \"n\",\n",
    "#     \"g\",\n",
    "#     \"d\",\n",
    "#     \"layout\",\n",
    "#     r\"s\\_B\", # basic swap\n",
    "#     r\"s\\_S\", # sabre swap\n",
    "#     r\"s\\_L\", # lookahead swap\n",
    "#     r\"s (%)\",\n",
    "#     r\"d_B\", # basic depth\n",
    "#     r\"d_S\", # sabre depth\n",
    "#     r\"d_L\", # lookahead depth\n",
    "#     r\"d (%)\",\n",
    "# ]\n",
    "\n",
    "\n",
    "print(df)"
   ]
  },
  {
   "cell_type": "code",
   "execution_count": 75,
   "metadata": {},
   "outputs": [],
   "source": [
    "def save_latex_to_file(latex, circuit_size):\n",
    "    with open(f\"result/table_{circuit_size}.tex\", \"w\") as file:\n",
    "        file.write(latex)"
   ]
  },
  {
   "cell_type": "code",
   "execution_count": 76,
   "metadata": {},
   "outputs": [],
   "source": [
    "df_n_5 = df[df[\"n\"] == \"5\"]\n",
    "# df_n_5 = df_n_5.replace('_', r'\\_', regex=True)\n",
    "df_n_5 = df_n_5.drop(columns=[\"n\"])\n",
    "latex_n_5 = df_n_5.to_latex(index=False, escape=False, longtable=True)\n",
    "latex_n_5 = latex_n_5.replace('_', r'\\_').replace('%', r'\\%')\n",
    "# latex_n_5 = latex_n_5.replace('%', r'\\%')\n",
    "save_latex_to_file(latex_n_5, 5)"
   ]
  },
  {
   "cell_type": "code",
   "execution_count": 77,
   "metadata": {},
   "outputs": [],
   "source": [
    "df_n_10 = df[df[\"n\"] == \"10\"]\n",
    "df_n_10 = df_n_10.drop(columns=[\"n\"])\n",
    "latex_n_10 = df_n_10.to_latex(index=False, escape=False, longtable=True)\n",
    "latex_n_10 = latex_n_10.replace('_', r'\\_').replace('%', r'\\%')\n",
    "save_latex_to_file(latex_n_10, 10)"
   ]
  },
  {
   "cell_type": "code",
   "execution_count": 78,
   "metadata": {},
   "outputs": [],
   "source": [
    "df_n_15 = df[df[\"n\"] == \"15\"]\n",
    "df_n_15 = df_n_15.drop(columns=[\"n\"])\n",
    "latex_n_15 = df_n_15.to_latex(index=False, escape=False, longtable=True)\n",
    "latex_n_15 = latex_n_15.replace('_', r'\\_').replace('%', r'\\%')\n",
    "save_latex_to_file(latex_n_15, 15)"
   ]
  }
 ],
 "metadata": {
  "kernelspec": {
   "display_name": "Python 3",
   "language": "python",
   "name": "python3"
  },
  "language_info": {
   "codemirror_mode": {
    "name": "ipython",
    "version": 3
   },
   "file_extension": ".py",
   "mimetype": "text/x-python",
   "name": "python",
   "nbconvert_exporter": "python",
   "pygments_lexer": "ipython3",
   "version": "3.10.12"
  }
 },
 "nbformat": 4,
 "nbformat_minor": 2
}
