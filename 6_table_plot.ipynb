{
 "cells": [
  {
   "cell_type": "code",
   "execution_count": 1,
   "metadata": {},
   "outputs": [],
   "source": [
    "import json\n",
    "import pandas as pd"
   ]
  },
  {
   "cell_type": "code",
   "execution_count": 2,
   "metadata": {},
   "outputs": [],
   "source": [
    "def format_number(x):\n",
    "    if isinstance(x, float):\n",
    "        if x.is_integer():\n",
    "            return int(x)  # Convert to integer if the float is a whole number\n",
    "        else:\n",
    "            return '{:.2f}'.format(x).rstrip('0').rstrip('.')  # Keep up to 2 decimals, remove trailing zeros\n",
    "    return x\n",
    "\n",
    "def flatten_json(json_data):\n",
    "    data = []\n",
    "    for circuit, circuit_value in json_data.items(): # circuit size\n",
    "        for benchmark, benchmark_value in circuit_value.items(): # benchmark_name\n",
    "            for layout, metrics in benchmark_value.items():\n",
    "                if layout == 'init':\n",
    "                    continue\n",
    "                if 'lookahead_swap' not in metrics:\n",
    "                    continue\n",
    "                basic_swap = metrics.get('basic_swap', None)\n",
    "                sabre_swap = metrics.get('sabre_swap', None)\n",
    "                lookahead_swap = metrics.get('lookahead_swap', None)\n",
    "                swap_change = ((lookahead_swap - sabre_swap) / sabre_swap * 100) if sabre_swap != 0 and sabre_swap is not None and lookahead_swap is not None else None\n",
    "                \n",
    "                basic_depth = metrics.get('basic_depth', None)\n",
    "                sabre_depth = metrics.get('sabre_depth', None)\n",
    "                lookahead_depth = metrics.get('lookahead_depth', None)\n",
    "                depth_change = ((lookahead_depth - sabre_depth) / sabre_depth * 100) if sabre_depth != 0 and sabre_depth is not None and lookahead_depth is not None else None\n",
    "\n",
    "                data.append({\n",
    "                    \"benchmark\": benchmark,\n",
    "                    \"size\": circuit, # circuit size\n",
    "                    \"gate\": benchmark_value['init']['size'], # total gates\n",
    "                    \"depth\": benchmark_value['init']['depth'], # circuit depth\n",
    "                    \"layout\": layout,\n",
    "                    \"swap basic\": basic_swap, # basic swap\n",
    "                    \"swap sabre\": sabre_swap, # sabre swap\n",
    "                    \"swap lookahead\": lookahead_swap, # lookahead swap\n",
    "                    \"swap percentage\": swap_change,\n",
    "                    \"depth basic\": basic_depth, # basic depth\n",
    "                    \"depth sabre\": sabre_depth, # sabre depth\n",
    "                    \"depth lookahead\": lookahead_depth, # lookahead depth\n",
    "                    \"depth percentage\": depth_change\n",
    "                })\n",
    "    return pd.DataFrame(data)\n"
   ]
  },
  {
   "cell_type": "code",
   "execution_count": 3,
   "metadata": {},
   "outputs": [],
   "source": [
    "def rearrange_columns(df, first_col_name):\n",
    "    \"\"\"\n",
    "    Reorder the columns of the DataFrame so that the specified column is first.\n",
    "    \n",
    "    Parameters:\n",
    "    - df: The input DataFrame.\n",
    "    - first_col_name: The name of the column to move to the first position.\n",
    "    \n",
    "    Returns:\n",
    "    - A DataFrame with the specified column moved to the first position.\n",
    "    \"\"\"\n",
    "    # Check if the specified column exists in the DataFrame\n",
    "    if first_col_name not in df.columns:\n",
    "        raise ValueError(f\"Column '{first_col_name}' does not exist in the DataFrame.\")\n",
    "    \n",
    "    # Create a list of columns with the specified column first\n",
    "    columns = [first_col_name] + [col for col in df.columns if col != first_col_name]\n",
    "    \n",
    "    # Reorder the DataFrame\n",
    "    df_reordered = df[columns]\n",
    "    \n",
    "    return df_reordered"
   ]
  },
  {
   "cell_type": "code",
   "execution_count": 4,
   "metadata": {},
   "outputs": [
    {
     "name": "stdout",
     "output_type": "stream",
     "text": [
      "15\n"
     ]
    }
   ],
   "source": [
    "def open_json_from_file():\n",
    "    with open(\"result/benchmarking_2.json\") as json_file:\n",
    "        return json.load(json_file)\n",
    "\n",
    "dict_benchmark = open_json_from_file()\n",
    "print(len(dict_benchmark[\"5\"].keys()))"
   ]
  },
  {
   "cell_type": "code",
   "execution_count": 5,
   "metadata": {},
   "outputs": [
    {
     "name": "stdout",
     "output_type": "stream",
     "text": [
      "True\n"
     ]
    }
   ],
   "source": [
    "a = dict_benchmark[\"5\"][\"ghz\"][\"full_10_2\"]\n",
    "a_sabre_swap = a.get(\"sabre_swap\", None)\n",
    "print(isinstance(a_sabre_swap, int))"
   ]
  },
  {
   "cell_type": "code",
   "execution_count": 6,
   "metadata": {},
   "outputs": [
    {
     "name": "stdout",
     "output_type": "stream",
     "text": [
      "    benchmark size  gate  depth            layout  swap basic  swap sabre  \\\n",
      "0          dj    5    36     11         full_10_2           0           0   \n",
      "1          dj    5    36     11          full_7_3           0           3   \n",
      "2          dj    5    36     11         ring_10_2          36           3   \n",
      "3          dj    5    36     11          ring_7_3          24           3   \n",
      "4          dj    5    36     11          grid_9_3           9           3   \n",
      "..        ...  ...   ...    ...               ...         ...         ...   \n",
      "380    wstate   15   253    135  t_horizontal_5_4          63          21   \n",
      "381    wstate   15   253    135    t_vertical_5_4         126          45   \n",
      "382    wstate   15   253    135          ring_7_3           0          15   \n",
      "383    wstate   15   253    135          full_7_3           0          12   \n",
      "384    wstate   15   253    135          ring_5_4           0          48   \n",
      "\n",
      "     swap lookahead swap percentage  depth basic  depth sabre  \\\n",
      "0                 0             nan           11           11   \n",
      "1                 0            -100           11           14   \n",
      "2                 3               0           40           17   \n",
      "3                 3               0           30           18   \n",
      "4                 0            -100           21           17   \n",
      "..              ...             ...          ...          ...   \n",
      "380              45          114.29          166          141   \n",
      "381              84           86.67          200          153   \n",
      "382             108             620          135          144   \n",
      "383               0            -100          135          141   \n",
      "384              72              50          135          150   \n",
      "\n",
      "     depth lookahead depth percentage  \n",
      "0                 11                0  \n",
      "1                 11           -21.43  \n",
      "2                 12           -29.41  \n",
      "3                 12           -33.33  \n",
      "4                 11           -35.29  \n",
      "..               ...              ...  \n",
      "380              111           -21.28  \n",
      "381               97            -36.6  \n",
      "382               81           -43.75  \n",
      "383              135            -4.26  \n",
      "384               79           -47.33  \n",
      "\n",
      "[385 rows x 13 columns]\n"
     ]
    }
   ],
   "source": [
    "df = flatten_json(dict_benchmark)\n",
    "df = df.map(format_number)\n",
    "\n",
    "def rename_columns(df):\n",
    "    df.columns = [\n",
    "        \"benchmark\",\n",
    "        # \"n\",\n",
    "        \"g\",\n",
    "        \"d\",\n",
    "        \"layout\",\n",
    "        \"s basic\", # basic swap\n",
    "        \"s sabre\", # sabre swap\n",
    "        \"s look\", # lookahead swap\n",
    "        \"swap (%)\",\n",
    "        \"d basic\", # basic depth\n",
    "        \"d swap\", # sabre depth\n",
    "        \"d look\", # lookahead depth\n",
    "        \"d (%)\",\n",
    "    ]\n",
    "    return df\n",
    "# df = rename_columns(df)\n",
    "\n",
    "print(df)"
   ]
  },
  {
   "cell_type": "code",
   "execution_count": 7,
   "metadata": {},
   "outputs": [],
   "source": [
    "def save_latex_to_file(latex, circuit_size, filename=''):\n",
    "    with open(f\"table/table_{filename}_{circuit_size}.tex\", \"w\") as file:\n",
    "        file.write(latex)"
   ]
  },
  {
   "cell_type": "code",
   "execution_count": 8,
   "metadata": {},
   "outputs": [],
   "source": [
    "def build_by_benchmark(df, circuit_size):\n",
    "    df_c = df[df['size'] == f\"{circuit_size}\"]\n",
    "    # df_n_5 = df_n_5.replace('_', r'\\_', regex=True)\n",
    "    df_c = df_c.sort_values(by=['gate', 'benchmark'])\n",
    "    df_c = df_c.drop(columns=['size'])\n",
    "    df_c = rename_columns(df_c)\n",
    "    latex = df_c.to_latex(index=False, escape=False, longtable=True, caption=f\"Additional swap gates and circuit depth, n = {circuit_size}\", label=f\"benchmark-table-{circuit_size}\")\n",
    "    latex = latex.replace('_', r'\\_').replace('%', r'\\%')\n",
    "    save_latex_to_file(latex, circuit_size, 'benchmark')\n",
    "    return df_c"
   ]
  },
  {
   "cell_type": "code",
   "execution_count": 9,
   "metadata": {},
   "outputs": [],
   "source": [
    "df_5 = build_by_benchmark(df, 5)\n",
    "df_10 = build_by_benchmark(df, 10)\n",
    "df_15 = build_by_benchmark(df, 15)"
   ]
  },
  {
   "cell_type": "code",
   "execution_count": 10,
   "metadata": {},
   "outputs": [],
   "source": [
    "def build_by_layout(df, circuit_size):\n",
    "    df_b = df[df['size'] == f\"{circuit_size}\"]\n",
    "    df_b = df_b.groupby(by=['layout']).apply(lambda x: x.sort_values(by=['gate', 'benchmark']))\n",
    "    df_b = df_b.drop(columns=['size']) # remove circuit size\n",
    "    df_b = rename_columns(df_b)\n",
    "    df_b = rearrange_columns(df_b, 'layout')\n",
    "    latex = df_b.to_latex(index=False, escape=False, longtable=True, caption=f\"Additional swap gates and circuit depth, n = {circuit_size}\", label=f\"benchmark-table-{circuit_size}\")\n",
    "    latex = latex.replace('_', r'\\_').replace('%', r'\\%')\n",
    "    save_latex_to_file(latex, circuit_size, 'layout')\n",
    "    return df_b"
   ]
  },
  {
   "cell_type": "code",
   "execution_count": 11,
   "metadata": {},
   "outputs": [
    {
     "name": "stderr",
     "output_type": "stream",
     "text": [
      "/tmp/ipykernel_16169/2156170491.py:3: DeprecationWarning: DataFrameGroupBy.apply operated on the grouping columns. This behavior is deprecated, and in a future version of pandas the grouping columns will be excluded from the operation. Either pass `include_groups=False` to exclude the groupings or explicitly select the grouping columns after groupby to silence this warning.\n",
      "  df_b = df_b.groupby(by=['layout']).apply(lambda x: x.sort_values(by=['gate', 'benchmark']))\n",
      "/tmp/ipykernel_16169/2156170491.py:3: DeprecationWarning: DataFrameGroupBy.apply operated on the grouping columns. This behavior is deprecated, and in a future version of pandas the grouping columns will be excluded from the operation. Either pass `include_groups=False` to exclude the groupings or explicitly select the grouping columns after groupby to silence this warning.\n",
      "  df_b = df_b.groupby(by=['layout']).apply(lambda x: x.sort_values(by=['gate', 'benchmark']))\n",
      "/tmp/ipykernel_16169/2156170491.py:3: DeprecationWarning: DataFrameGroupBy.apply operated on the grouping columns. This behavior is deprecated, and in a future version of pandas the grouping columns will be excluded from the operation. Either pass `include_groups=False` to exclude the groupings or explicitly select the grouping columns after groupby to silence this warning.\n",
      "  df_b = df_b.groupby(by=['layout']).apply(lambda x: x.sort_values(by=['gate', 'benchmark']))\n"
     ]
    }
   ],
   "source": [
    "df_5 = build_by_layout(df, 5)\n",
    "df_10 = build_by_layout(df, 10)\n",
    "df_15 = build_by_layout(df, 15)"
   ]
  },
  {
   "cell_type": "code",
   "execution_count": null,
   "metadata": {},
   "outputs": [],
   "source": []
  }
 ],
 "metadata": {
  "kernelspec": {
   "display_name": "Python 3",
   "language": "python",
   "name": "python3"
  },
  "language_info": {
   "codemirror_mode": {
    "name": "ipython",
    "version": 3
   },
   "file_extension": ".py",
   "mimetype": "text/x-python",
   "name": "python",
   "nbconvert_exporter": "python",
   "pygments_lexer": "ipython3",
   "version": "3.10.12"
  }
 },
 "nbformat": 4,
 "nbformat_minor": 2
}
