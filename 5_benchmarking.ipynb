{
 "cells": [
  {
   "cell_type": "markdown",
   "metadata": {},
   "source": [
    "# Benchmarking\n",
    "benchmarking using [MQTBench](https://mqt.readthedocs.io/projects/bench/en/latest/Quickstart.html) with QFT for 15 qubits"
   ]
  },
  {
   "cell_type": "code",
   "execution_count": null,
   "metadata": {},
   "outputs": [],
   "source": [
    "from lib.distributed_coupling_map import build_coupling_list_ring, build_coupling_list_full, build_coupling_list_grid, build_coupling_list_line, build_coupling_list_t_horizontal, build_coupling_list_t_vertical\n",
    "from lib.interaction_mapping import InteractionMapping\n",
    "from lib.interaction_layout import InteractionLayout\n",
    "from lib.lookahead_routing import DynamicLookaheadSwap\n",
    "from lib.timer_helper import Timer"
   ]
  },
  {
   "cell_type": "code",
   "execution_count": null,
   "metadata": {},
   "outputs": [],
   "source": [
    "from qiskit import QuantumCircuit, transpile\n",
    "from qiskit.transpiler import CouplingMap, PassManager, StagedPassManager\n",
    "from qiskit.transpiler.passes import SabreLayout, SabreSwap\n",
    "from qiskit.transpiler.preset_passmanagers import generate_preset_pass_manager\n",
    "from qiskit.transpiler.preset_passmanagers.common import generate_embed_passmanager, generate_routing_passmanager\n",
    "from qiskit.providers import Backend\n",
    "from qiskit.providers.fake_provider import GenericBackendV2\n",
    "from qiskit_ibm_runtime.fake_provider import FakeLondonV2\n",
    "from qiskit.converters import circuit_to_dag\n",
    "from qiskit.visualization import plot_coupling_map, plot_circuit_layout, plot_histogram"
   ]
  },
  {
   "cell_type": "code",
   "execution_count": null,
   "metadata": {},
   "outputs": [],
   "source": [
    "from mqt.bench import get_benchmark, CompilerSettings, QiskitSettings"
   ]
  },
  {
   "cell_type": "code",
   "execution_count": null,
   "metadata": {},
   "outputs": [],
   "source": [
    "# fake_backend = FakeLondonV2()\n",
    "\n",
    "num_qubits = 5\n",
    "fake_backend = GenericBackendV2(num_qubits, coupling_map=CouplingMap.from_ring(num_qubits))\n",
    "# qc = QuantumCircuit(num_qubits)\n",
    "# qc.h(0)\n",
    "# qc.cx(1, 2)\n",
    "\n",
    "# qc.cx(1, 0)\n",
    "# qc.cx(1, 2)\n",
    "# qc.cx(2, 3)\n",
    "\n",
    "# qc.cx(0, 2)\n",
    "# qc.cx(1, 3)\n",
    "\n",
    "# qc.measure_all()\n",
    "# display(qc.draw(\"mpl\"))\n",
    "\n",
    "optimization_level = 0\n",
    "compiler_settings = CompilerSettings(qiskit=QiskitSettings(optimization_level))\n",
    "qc = get_benchmark(\n",
    "        benchmark_name=\"qft\", level=\"nativegates\", circuit_size=4, \n",
    "        compiler=\"qiskit\", compiler_settings=compiler_settings, provider_name=\"ibm\"\n",
    "        )\n",
    "display(qc.draw('mpl'))\n",
    "dag = circuit_to_dag(qc)\n",
    "\n",
    "interaction_mapping = InteractionMapping(\n",
    "    coupling_map=fake_backend.coupling_map, dag=dag\n",
    ")\n",
    "best_layout = interaction_mapping.get_best_qpi_layout()\n",
    "print(\"Best mapping layout:\", best_layout)\n",
    "\n",
    "staged_pass = StagedPassManager()\n",
    "# staged_pass.init = generate_preset_pass_manager(optimization_level=0, backend=fake_backend)\n",
    "staged_pass.layout = PassManager(InteractionLayout(\n",
    "    coupling_map=fake_backend.coupling_map, initial_map=best_layout\n",
    "))\n",
    "staged_pass.layout += generate_embed_passmanager(fake_backend.coupling_map)\n",
    "staged_pass.routing = generate_routing_passmanager(\n",
    "    DynamicLookaheadSwap(fake_backend.coupling_map), target=fake_backend.coupling_map\n",
    ")\n",
    "# sabre_pass = generate_preset_pass_manager(optimization_level=0, backend=fake_backend, layout_method='sabre', routing_method='sabre')\n",
    "\n",
    "routing_isa = staged_pass.run(qc)\n",
    "# routing_isa = staged_pass.run(qc).decompose()\n",
    "display(routing_isa.draw(\"mpl\"))\n",
    "print(f\"Initial qc size: {qc.size()} depth: {qc.depth()}\")\n",
    "print(f\"Routing isa size: {routing_isa.size() + dag.num_clbits()} depth: {routing_isa.depth()}\")\n",
    "\n",
    "# routing_job = fake_backend.run(routing_isa)\n",
    "# routing_counts = routing_job.result().get_counts()\n",
    "# display(plot_histogram(routing_counts))"
   ]
  },
  {
   "cell_type": "code",
   "execution_count": null,
   "metadata": {},
   "outputs": [],
   "source": [
    "optimization_level = 0\n",
    "compiler_settings = CompilerSettings(qiskit=QiskitSettings(optimization_level))"
   ]
  },
  {
   "cell_type": "code",
   "execution_count": null,
   "metadata": {},
   "outputs": [],
   "source": [
    "benchmark_name = \"ghz\"\n",
    "# level = \"indep\" # but cannot compare because need translation\n",
    "level = \"nativegates\"\n",
    "circuit_size = 5\n",
    "qc_ghz = get_benchmark(\n",
    "    benchmark_name=benchmark_name, level=level, circuit_size=circuit_size, \n",
    "    compiler=\"qiskit\", compiler_settings=compiler_settings, provider_name=\"ibm\"\n",
    ")\n",
    "print(f\"Circuit {benchmark_name}[{circuit_size}] -> size: {qc_ghz.size()} depth: {qc_ghz.depth()}\")\n",
    "# display(qc_ghz.draw(\"mpl\"))"
   ]
  },
  {
   "cell_type": "code",
   "execution_count": null,
   "metadata": {},
   "outputs": [],
   "source": [
    "num_qubits = 5\n",
    "num_group = 4\n",
    "coupling_list_ring = build_coupling_list_ring(num_qubits, num_group)\n",
    "coupling_map_ring = CouplingMap(couplinglist=coupling_list_ring)\n",
    "\n",
    "backend_ring = GenericBackendV2(num_qubits=num_qubits * num_group, coupling_map=coupling_map_ring)\n",
    "pass_manager = generate_preset_pass_manager(optimization_level, backend=backend_ring)\n",
    "qc_ghz_isa = pass_manager.run(qc_ghz)\n",
    "print(f\"Transpiled {benchmark_name}[{circuit_size}] -> size: {qc_ghz_isa.size()} depth: {qc_ghz_isa.depth()}\")\n",
    "display(plot_circuit_layout(qc_ghz_isa, backend_ring, view='physical'))\n",
    "display(plot_circuit_layout(qc_ghz_isa, backend_ring, view='virtual'))"
   ]
  },
  {
   "cell_type": "code",
   "execution_count": null,
   "metadata": {},
   "outputs": [],
   "source": [
    "# Define a threshold for significant occurrence\n",
    "# For example, here we use 10% of the maximum count as the threshold\n",
    "def get_most_occurence(counts: dict, threshold_index: float = 0.7) -> list:\n",
    "    threshold = threshold_index * max(counts.values())\n",
    "\n",
    "    # Filter the keys based on the threshold\n",
    "    significant_keys = [key for key, value in counts.items() if value > threshold]\n",
    "    return significant_keys"
   ]
  },
  {
   "cell_type": "code",
   "execution_count": null,
   "metadata": {},
   "outputs": [],
   "source": [
    "job_ring = backend_ring.run(qc_ghz_isa)\n",
    "counts_ring = job_ring.result().get_counts()\n",
    "sig_ring_counts = get_most_occurence(counts_ring, 0.7)\n",
    "sig_ring_counts.sort()"
   ]
  },
  {
   "cell_type": "code",
   "execution_count": null,
   "metadata": {},
   "outputs": [],
   "source": [
    "print(sig_ring_counts, \"\\n\", len(sig_ring_counts))"
   ]
  },
  {
   "cell_type": "code",
   "execution_count": null,
   "metadata": {},
   "outputs": [],
   "source": [
    "# use dictionary to save the result\n",
    "benchmark_name_list = [\n",
    "    \"ae\", # list index out of range? because qreg use eval1, eval2, eval3\n",
    "    \"dj\",\n",
    "    # \"grover-noancilla\", # '[5] grover-noancilla': {'size': 720, 'depth': 453, 'interval': 0.13467860221862793}\n",
    "    # \"grover-v-chain\", # '[5] grover-v-chain': {'size': 750, 'depth': 464, 'interval': 0.11993575096130371}\n",
    "    \"ghz\",\n",
    "    \"graphstate\",\n",
    "    \"portfolioqaoa\",\n",
    "    \"portfoliovqe\",\n",
    "    \"qaoa\",\n",
    "    \"qft\",\n",
    "    \"qftentangled\",\n",
    "    \"qnn\",\n",
    "    \"qpeexact\",\n",
    "    \"qpeinexact\",\n",
    "    # \"qwalk-noancilla\", # '[5] qwalk-noancilla': {'size': 1310, 'depth': 915, 'interval': 0.07286214828491211}\n",
    "    # \"qwalk-v-chain\", # '[5] qwalk-v-chain': {'size': 856, 'depth': 583, 'interval': 0.022635459899902344}\n",
    "    \"random\",\n",
    "    \"realamprandom\",\n",
    "    \"su2random\",\n",
    "    \"twolocalrandom\",\n",
    "    \"vqe\",\n",
    "    \"wstate\",\n",
    "    \n",
    "    # non-scalable benchmarks\n",
    "    \n",
    "    # \"shor\", # benchmark_instance_name must be defined for this benchmark.\n",
    "    # \"pricingcall\", # Benchmark pricingcall[5] -> size: 901 depth: 568 interval: 0.18169641494750977\n",
    "    # \"pricingput\", # Benchmark pricingput[5] -> size: 931 depth: 568 interval: 0.1800365447998047\n",
    "    # \"groundstate\", # benchmark_instance_name must be defined for this benchmark.\n",
    "    # \"routing\",\n",
    "    # \"tsp\",\n",
    "]"
   ]
  },
  {
   "cell_type": "code",
   "execution_count": null,
   "metadata": {},
   "outputs": [],
   "source": [
    "circuit_size_list = [5, 10, 15]\n",
    "\n",
    "def init_dict_benchmark(circuit_size_list, benchmark_name_list, dict_benchmark):\n",
    "    for circuit_size in circuit_size_list:\n",
    "        if circuit_size not in dict_benchmark: # circuit size level\n",
    "            dict_benchmark[circuit_size] = {}\n",
    "            for benchmark_name in benchmark_name_list:\n",
    "                if benchmark_name not in dict_benchmark[circuit_size]: # benchmark name level\n",
    "                    dict_benchmark[circuit_size][benchmark_name] = {}\n",
    "                    if 'init' not in dict_benchmark[circuit_size][benchmark_name]: # coupling map level\n",
    "                        dict_benchmark[circuit_size][benchmark_name]['init'] = {}\n",
    "    return dict_benchmark"
   ]
  },
  {
   "cell_type": "code",
   "execution_count": null,
   "metadata": {},
   "outputs": [],
   "source": [
    "# Initialize from EMPTY\n",
    "\n",
    "# dict_benchmark = {} # level: circuit_size -> benchmark_name -> coupling_map, ex: ['init'], ['ring_5_4'], ['line_5_4'] -> ['size'], ['swap'], ['depth' (optional)], ['interval']\n",
    "\n",
    "# line, full, ring_10_2, ring_5_4, grid_3_3_2, grid_3_2_3, t_horizontal_4, t_vertical_4\n",
    "\n",
    "# provide around 20 num_qubits in total\n",
    "# dict_benchmark = {}\n",
    "# dict_benchmark = init_dict_benchmark(circuit_size_list, benchmark_name_list, dict_benchmark)\n",
    "# print(dict_benchmark)"
   ]
  },
  {
   "cell_type": "code",
   "execution_count": null,
   "metadata": {},
   "outputs": [],
   "source": [
    "import json\n",
    "def open_json_from_file(dict_benchmark):\n",
    "    with open(\"result/benchmarking.json\") as json_file:\n",
    "        dict_benchmark = json.load(json_file)\n",
    "    return dict_benchmark"
   ]
  },
  {
   "cell_type": "code",
   "execution_count": null,
   "metadata": {},
   "outputs": [],
   "source": [
    "# Initialize from JSON\n",
    "\n",
    "dict_benchmark = {}\n",
    "dict_benchmark = open_json_from_file(dict_benchmark)\n",
    "print(dict_benchmark)"
   ]
  },
  {
   "cell_type": "code",
   "execution_count": null,
   "metadata": {},
   "outputs": [],
   "source": [
    "import json\n",
    "def save_dict_to_file(dict_benchmark):\n",
    "    with(open(\"result/benchmarking.json\", \"w\") as outfile):\n",
    "        json.dump(dict_benchmark, outfile)"
   ]
  },
  {
   "cell_type": "code",
   "execution_count": null,
   "metadata": {},
   "outputs": [],
   "source": [
    "def start_initial_benchmark(benchmark_name: str, circuit_size: int, dict_benchmark: dict):\n",
    "    level = \"nativegates\"\n",
    "    optimization_level = 0\n",
    "    compiler_settings = CompilerSettings(qiskit=QiskitSettings(optimization_level))\n",
    "    with Timer() as t:\n",
    "        qc = get_benchmark(\n",
    "        benchmark_name=benchmark_name, level=level, circuit_size=circuit_size, \n",
    "        compiler=\"qiskit\", compiler_settings=compiler_settings, provider_name=\"ibm\"\n",
    "        )\n",
    "    dict_benchmark[str(circuit_size)][benchmark_name]['init']['size'] = qc.size()\n",
    "    dict_benchmark[str(circuit_size)][benchmark_name]['init']['depth'] = qc.depth()\n",
    "    dict_benchmark[str(circuit_size)][benchmark_name]['init']['interval'] = t.interval\n",
    "\n",
    "    dag = circuit_to_dag(qc)\n",
    "    return qc, dag\n",
    "\n",
    "# if want to change interval in ms = t.interval*10**3"
   ]
  },
  {
   "cell_type": "code",
   "execution_count": null,
   "metadata": {},
   "outputs": [],
   "source": [
    "import math\n",
    "\n",
    "def build_generic_backend(\n",
    "    layout_name: str, num_qubits: int, num_group: int # num_rows and num_cols only used in grid\n",
    ") ->  GenericBackendV2:\n",
    "    if layout_name == \"full\":\n",
    "        couplinglist = build_coupling_list_full(num_qubits)\n",
    "    elif layout_name == \"line\":\n",
    "        couplinglist = build_coupling_list_line(num_qubits, num_group)\n",
    "    elif layout_name == \"ring\":\n",
    "        couplinglist = build_coupling_list_ring(num_qubits, num_group)\n",
    "    elif layout_name == \"grid\":\n",
    "        couplinglist = build_coupling_list_grid(\n",
    "            num_rows=math.ceil(math.sqrt(num_qubits)),\n",
    "            num_columns=math.ceil(math.sqrt(num_qubits)),\n",
    "            num_group=num_group,\n",
    "        )\n",
    "    elif layout_name == \"t_horizontal\":\n",
    "        couplinglist = build_coupling_list_t_horizontal(num_group)\n",
    "    elif layout_name == \"t_vertical\":\n",
    "        couplinglist = build_coupling_list_t_vertical(num_group)\n",
    "    else:\n",
    "        raise Exception(f\"Layout name: {layout_name} is not supported yet.\")\n",
    "\n",
    "    gen_backend = GenericBackendV2(num_qubits=num_qubits * num_group, coupling_map=couplinglist) # can directly add coupling list without casting to CouplingMap\n",
    "    return gen_backend"
   ]
  },
  {
   "cell_type": "code",
   "execution_count": null,
   "metadata": {},
   "outputs": [],
   "source": [
    "from qiskit.circuit import SessionEquivalenceLibrary\n",
    "from qiskit.transpiler.passes.basis.basis_translator import BasisTranslator\n",
    "\n",
    "\n",
    "def build_pass_manager(\n",
    "    routing_option: str, backend: Backend, best_layout=None\n",
    ") -> PassManager:\n",
    "    if routing_option == \"lookahead\":\n",
    "        if best_layout is None:\n",
    "            raise Exception(\n",
    "                f\"Provide initial layout for Interaction Layout and Lookahead Swap.\"\n",
    "            )\n",
    "        pass_manager = StagedPassManager()\n",
    "        pass_manager.layout = PassManager(\n",
    "            InteractionLayout(\n",
    "                coupling_map=backend.coupling_map, initial_map=best_layout\n",
    "            )\n",
    "        )\n",
    "        pass_manager.layout += generate_embed_passmanager(backend.coupling_map)\n",
    "        pass_manager.routing = generate_routing_passmanager(\n",
    "            DynamicLookaheadSwap(backend.coupling_map),\n",
    "            target=backend.coupling_map,\n",
    "        )\n",
    "        # TODO: routing here adds SWAP gate, need to multiply by 3\n",
    "\n",
    "    elif routing_option == \"sabre\":\n",
    "        pass_manager = generate_preset_pass_manager(\n",
    "            optimization_level=0,\n",
    "            backend=backend,\n",
    "            layout_method=\"sabre\",\n",
    "            routing_method=\"sabre\",\n",
    "        )\n",
    "    elif routing_option == \"basic\":\n",
    "        pass_manager = generate_preset_pass_manager(\n",
    "            optimization_level=0,\n",
    "            backend=backend,\n",
    "            layout_method=\"trivial\",\n",
    "            routing_method=\"basic\",\n",
    "        )\n",
    "    else:\n",
    "        raise Exception(f\"Swap technique {routing_option} is not available yet.\")\n",
    "    return pass_manager"
   ]
  },
  {
   "cell_type": "code",
   "execution_count": null,
   "metadata": {},
   "outputs": [],
   "source": [
    "def update_dict_size_depth(qc, dag, layout_name, num_qubits, num_group, routing_option, dict_benchmark):\n",
    "    with Timer() as t:\n",
    "        backend = build_generic_backend(layout_name, num_qubits, num_group)\n",
    "        mapping = InteractionMapping(backend.coupling_map, dag)\n",
    "        print(f\"Best layout: {mapping.get_best_qpi_layout()}\")\n",
    "        pm = build_pass_manager(routing_option, backend, mapping.get_best_qpi_layout())\n",
    "        isa = pm.run(qc)\n",
    "        display(plot_circuit_layout(isa, backend))\n",
    "    \n",
    "    if f'{layout_name}_{num_qubits}_{num_group}' not in dict_benchmark[str(circuit_size)][benchmark_name]:\n",
    "        dict_benchmark[str(circuit_size)][benchmark_name][f'{layout_name}_{num_qubits}_{num_group}'] = {}\n",
    "    dict_benchmark[str(circuit_size)][benchmark_name][f'{layout_name}_{num_qubits}_{num_group}'][f'{routing_option}_size'] = isa.size()\n",
    "    dict_benchmark[str(circuit_size)][benchmark_name][f'{layout_name}_{num_qubits}_{num_group}'][f'{routing_option}_depth'] = isa.depth()\n",
    "    dict_benchmark[str(circuit_size)][benchmark_name][f'{layout_name}_{num_qubits}_{num_group}'][f'{routing_option}_interval'] = t.interval\n",
    "\n",
    "    if routing_option == 'lookahead':\n",
    "        additional_swap = (isa.size() + dag.num_clbits() - qc.size()) * 3 # TODO: issue with measure mapping, therefore add swap calculation here\n",
    "    else:\n",
    "        additional_swap = (isa.size() - qc.size())\n",
    "    dict_benchmark[str(circuit_size)][benchmark_name][f'{layout_name}_{num_qubits}_{num_group}'][f'{routing_option}_swap'] = additional_swap"
   ]
  },
  {
   "cell_type": "code",
   "execution_count": null,
   "metadata": {},
   "outputs": [],
   "source": [
    "benchmark_name_list = [\n",
    "    # \"ae\", # list index out of range? because qreg use eval1, eval2, eval3\n",
    "    \"dj\",\n",
    "    # \"grover-noancilla\", # '[5] grover-noancilla': {'size': 720, 'depth': 453, 'interval': 0.13467860221862793}\n",
    "    # \"grover-v-chain\", # '[5] grover-v-chain': {'size': 750, 'depth': 464, 'interval': 0.11993575096130371}\n",
    "    \"ghz\",\n",
    "    \"graphstate\",\n",
    "    \"portfolioqaoa\",\n",
    "    \"portfoliovqe\",\n",
    "    \"qaoa\",\n",
    "    \"qft\",\n",
    "    \"qftentangled\", # DONE easy\n",
    "    \"qnn\",\n",
    "    \"qpeexact\", # qreg use psi Qubit(QuantumRegister(9, 'q'), 8), Qubit(QuantumRegister(1, 'psi'), 0)\n",
    "    \"qpeinexact\", # qreg use psi\n",
    "    # \"qwalk-noancilla\", # '[5] qwalk-noancilla': {'size': 1310, 'depth': 915, 'interval': 0.07286214828491211}\n",
    "    # \"qwalk-v-chain\", # '[5] qwalk-v-chain': {'size': 856, 'depth': 583, 'interval': 0.022635459899902344}\n",
    "    \"random\", # [15] all failed except full\n",
    "    \"realamprandom\", # [15] all except full & line\n",
    "    \"su2random\", # [15] grid_9_2, ring failed\n",
    "    \"twolocalrandom\", # [10] t_vertical, ring_10_2 [15] ring_10_2, ring_5_4, grid, t failed with stopper at > 250\n",
    "    \"vqe\", # [10, 15] ALL WORKS\n",
    "    \"wstate\", # [10, 15] ALL WORKS\n",
    "]"
   ]
  },
  {
   "cell_type": "code",
   "execution_count": null,
   "metadata": {},
   "outputs": [],
   "source": [
    "circuit_size = 15\n",
    "benchmark_name = \"qnn\"\n",
    "# for circuit_size in circuit_size_list:\n",
    "# for benchmark_name in benchmark_name_list:\n",
    "qc, dag = start_initial_benchmark(benchmark_name=benchmark_name, circuit_size=circuit_size, dict_benchmark=dict_benchmark)\n",
    "routing_options = ['sabre', 'lookahead']\n",
    "\n",
    "# ring_5_4\n",
    "distributed_options = [\n",
    "    # ['full', 20, 1],\n",
    "    # ['line', 5, 4],\n",
    "    # ['ring', 10, 2],\n",
    "    # ['ring', 5, 4],\n",
    "    # ['grid', 9, 2],\n",
    "    # ['t_horizontal', 5, 4],\n",
    "    ['t_vertical', 5, 4]\n",
    "]\n",
    "\n",
    "for layout_name, num_qubits, num_group in distributed_options:\n",
    "    for routing_option in routing_options:\n",
    "        update_dict_size_depth(qc, dag, layout_name, num_qubits, num_group, routing_option, dict_benchmark)\n",
    "\n",
    "# Circuit size: 5 with time: 6.1507463455200195 (6.1s)\n",
    "# DJ [5] takes 21m 2.8s long, not sure how long anymore"
   ]
  },
  {
   "cell_type": "code",
   "execution_count": null,
   "metadata": {},
   "outputs": [],
   "source": [
    "save_dict_to_file(dict_benchmark)"
   ]
  },
  {
   "cell_type": "markdown",
   "metadata": {},
   "source": [
    "Initialization QC:\n",
    "- Circuit size: 10 with time: 28.9819118976593 (28.9s)\n",
    "- Circuit size: 15 with time: 718.7938868999481 (11m 58.7s)\n",
    "\n",
    "Init without non-scalable:\n",
    "- Circuit [5]: 0.006738901138305664\n",
    "- Circuit [10]: 0.009879827499389648\n",
    "- Circuit [15]: 0.03544354438781738\n",
    "Timeout for circuit with num_qubits = 20"
   ]
  },
  {
   "cell_type": "code",
   "execution_count": null,
   "metadata": {},
   "outputs": [],
   "source": [
    "# for circuit_size in circuit_size_list:\n",
    "#     for benchmark_name in benchmark_name_list:\n",
    "#         with Timer() as t:\n",
    "#             start_initial_benchmark(benchmark_name=benchmark_name, circuit_size=circuit_size, dict_benchmark=dict_benchmark)\n",
    "#     print(f\"Circuit [{circuit_size}]: {t.interval}\")\n",
    "\n",
    "# print(dict_benchmark)\n",
    "\n",
    "# Circuit [5]: 0.006738901138305664\n",
    "# Circuit [10]: 0.009879827499389648\n",
    "# Circuit [15]: 0.03544354438781738\n",
    "# Timeout for circuit with num_qubits = 20"
   ]
  },
  {
   "cell_type": "code",
   "execution_count": null,
   "metadata": {},
   "outputs": [],
   "source": [
    "print(dict_benchmark)"
   ]
  },
  {
   "cell_type": "markdown",
   "metadata": {},
   "source": []
  }
 ],
 "metadata": {
  "kernelspec": {
   "display_name": "Python 3",
   "language": "python",
   "name": "python3"
  },
  "language_info": {
   "codemirror_mode": {
    "name": "ipython",
    "version": 3
   },
   "file_extension": ".py",
   "mimetype": "text/x-python",
   "name": "python",
   "nbconvert_exporter": "python",
   "pygments_lexer": "ipython3",
   "version": "3.10.12"
  }
 },
 "nbformat": 4,
 "nbformat_minor": 2
}
